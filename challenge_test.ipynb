{
 "cells": [
  {
   "cell_type": "code",
   "execution_count": 23,
   "id": "f853ffc3",
   "metadata": {},
   "outputs": [],
   "source": [
    "# Import Splinter and BeautifulSoup\n",
    "from splinter import Browser\n",
    "from bs4 import BeautifulSoup as soup\n",
    "from webdriver_manager.chrome import ChromeDriverManager\n",
    "import pandas as pd"
   ]
  },
  {
   "cell_type": "code",
   "execution_count": 19,
   "id": "b07f5a1e",
   "metadata": {},
   "outputs": [
    {
     "name": "stderr",
     "output_type": "stream",
     "text": [
      "\n",
      "\n",
      "====== WebDriver manager ======\n",
      "Current google-chrome version is 91.0.4472\n",
      "Get LATEST driver version for 91.0.4472\n",
      "Driver [/Users/danielagonzalez/.wdm/drivers/chromedriver/mac64/91.0.4472.101/chromedriver] found in cache\n"
     ]
    }
   ],
   "source": [
    "#set up executable path and URL for scraping\n",
    "executable_path = {'executable_path': ChromeDriverManager().install()}\n",
    "browser = Browser('chrome', **executable_path, headless=False)"
   ]
  },
  {
   "cell_type": "markdown",
   "id": "c864850a",
   "metadata": {},
   "source": [
    "# D1: Scrape High-Resolution Mars’ Hemisphere Images and Titles"
   ]
  },
  {
   "cell_type": "markdown",
   "id": "d167ebcc",
   "metadata": {},
   "source": [
    "### Hemispheres"
   ]
  },
  {
   "cell_type": "code",
   "execution_count": 24,
   "id": "5ee5b5ba",
   "metadata": {},
   "outputs": [],
   "source": [
    "# 1. Use browser to visit the URL \n",
    "url = 'https://marshemispheres.com/'\n",
    "browser.visit(url)"
   ]
  },
  {
   "cell_type": "code",
   "execution_count": 49,
   "id": "02260c48",
   "metadata": {},
   "outputs": [],
   "source": [
    "for i in range(4):\n",
    "    #create an empty dictionary\n",
    "    hemispheres = {}\n",
    "    #click on each hemisphere link\n",
    "    hemisphere_link = browser.find_by_tag('h3')[i].click()\n",
    "    #parse the resulting html\n",
    "    html = browser.html\n",
    "    img_soup = soup(html, 'html.parser')\n",
    "    #retrieve the image title\n",
    "    title = img_soup.find('h2', class_='title').get_text()\n",
    "    #retreive the image url string and title for the hemisphere image\n",
    "    img_url_rel = img_url_rel = img_soup.find('img', class_='wide-image').get('src')\n",
    "    img_url = f'https://marshemispheres.com/{img_url_rel}'\n",
    "    #save image url string as the value for the img_url key\n",
    "    for pair in [\"img_url\", \"title\"]:\n",
    "        hemispheres[pair] = eval(pair)\n",
    "    #add the dictionary to the list\n",
    "    dictionary_copy = hemispheres.copy()\n",
    "    hemisphere_image_urls.append(dictionary_copy)\n",
    "    #browser back\n",
    "    browser.back()"
   ]
  },
  {
   "cell_type": "code",
   "execution_count": 50,
   "id": "187df1c5",
   "metadata": {},
   "outputs": [
    {
     "data": {
      "text/plain": [
       "[{'img_url': 'https://marshemispheres.com/images/f5e372a36edfa389625da6d0cc25d905_cerberus_enhanced.tif_full.jpg',\n",
       "  'title': 'Cerberus Hemisphere Enhanced'},\n",
       " {'img_url': 'https://marshemispheres.com/images/3778f7b43bbbc89d6e3cfabb3613ba93_schiaparelli_enhanced.tif_full.jpg',\n",
       "  'title': 'Schiaparelli Hemisphere Enhanced'},\n",
       " {'img_url': 'https://marshemispheres.com/images/555e6403a6ddd7ba16ddb0e471cadcf7_syrtis_major_enhanced.tif_full.jpg',\n",
       "  'title': 'Syrtis Major Hemisphere Enhanced'},\n",
       " {'img_url': 'https://marshemispheres.com/images/b3c7c6c9138f57b4756be9b9c43e3a48_valles_marineris_enhanced.tif_full.jpg',\n",
       "  'title': 'Valles Marineris Hemisphere Enhanced'}]"
      ]
     },
     "execution_count": 50,
     "metadata": {},
     "output_type": "execute_result"
    }
   ],
   "source": [
    "# 4. Print the list that holds the dictionary of each image url and title.\n",
    "hemisphere_image_urls"
   ]
  },
  {
   "cell_type": "code",
   "execution_count": 18,
   "id": "c6abb925",
   "metadata": {},
   "outputs": [],
   "source": [
    "# 5. Quit the browser\n",
    "browser.quit()"
   ]
  },
  {
   "cell_type": "code",
   "execution_count": 48,
   "id": "90ceb0dd",
   "metadata": {},
   "outputs": [],
   "source": [
    "hemisphere_image_urls.clear()"
   ]
  },
  {
   "cell_type": "code",
   "execution_count": null,
   "id": "f7c2ca6a",
   "metadata": {},
   "outputs": [],
   "source": []
  }
 ],
 "metadata": {
  "kernelspec": {
   "display_name": "Python 3",
   "language": "python",
   "name": "python3"
  },
  "language_info": {
   "codemirror_mode": {
    "name": "ipython",
    "version": 3
   },
   "file_extension": ".py",
   "mimetype": "text/x-python",
   "name": "python",
   "nbconvert_exporter": "python",
   "pygments_lexer": "ipython3",
   "version": "3.8.8"
  }
 },
 "nbformat": 4,
 "nbformat_minor": 5
}
